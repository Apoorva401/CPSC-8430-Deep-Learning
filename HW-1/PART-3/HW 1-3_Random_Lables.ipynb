{
 "cells": [
  {
   "cell_type": "code",
   "execution_count": 9,
   "id": "06df9cb7-eaac-4389-8d12-43aa6aa79426",
   "metadata": {
    "tags": []
   },
   "outputs": [],
   "source": [
    "import torch\n",
    "import torch.nn as nn\n",
    "import torch.optim as optim\n",
    "from torchvision import datasets, transforms\n",
    "from torch.utils.data import DataLoader\n",
    "import matplotlib.pyplot as plt\n",
    "import numpy as np"
   ]
  },
  {
   "cell_type": "code",
   "execution_count": 10,
   "id": "491ce497-ca1c-4848-8198-6dc5e006e56a",
   "metadata": {
    "tags": []
   },
   "outputs": [],
   "source": [
    "# Data Preparation (MNIST) with shuffled labels\n",
    "def load_randomized_label_data():\n",
    "    transform = transforms.ToTensor()\n",
    "    train_dataset = datasets.MNIST(root='data', train=True, download=True, transform=transform)\n",
    "    test_dataset = datasets.MNIST(root='data', train=False, download=True, transform=transform)\n",
    "    \n",
    "    # Randomize labels for training and testing datasets\n",
    "    train_dataset.targets = torch.randint(0, 10, (len(train_dataset.targets),))\n",
    "    test_dataset.targets = torch.randint(0, 10, (len(test_dataset.targets),))\n",
    "    \n",
    "    return DataLoader(train_dataset, batch_size=64, shuffle=True), DataLoader(test_dataset, batch_size=64, shuffle=False)\n",
    "\n",
    "train_loader, test_loader = load_randomized_label_data()"
   ]
  },
  {
   "cell_type": "code",
   "execution_count": 11,
   "id": "486b0a35-a918-4975-9b5c-25b5ae3a1474",
   "metadata": {
    "tags": []
   },
   "outputs": [],
   "source": [
    "# Neural Network Model with 3 hidden layers, each with 256 nodes\n",
    "class RandomLabelNetwork(nn.Module):\n",
    "    def __init__(self):\n",
    "        super(RandomLabelNetwork, self).__init__()\n",
    "        self.flatten_input = nn.Flatten()\n",
    "        self.fc1 = nn.Linear(28*28, 256)\n",
    "        self.fc2 = nn.Linear(256, 256)\n",
    "        self.fc3 = nn.Linear(256, 256)\n",
    "        self.fc_output = nn.Linear(256, 10)\n",
    "\n",
    "    def forward(self, x):\n",
    "        x = self.flatten_input(x)\n",
    "        x = torch.relu(self.fc1(x))\n",
    "        x = torch.relu(self.fc2(x))\n",
    "        x = torch.relu(self.fc3(x))\n",
    "        return self.fc_output(x)"
   ]
  },
  {
   "cell_type": "code",
   "execution_count": 12,
   "id": "003dea6e-f59a-45ad-9670-cfecc5ffd1e0",
   "metadata": {
    "tags": []
   },
   "outputs": [],
   "source": [
    "# Initialize the model, optimizer, and loss function\n",
    "network_model = RandomLabelNetwork()\n",
    "network_optimizer = optim.Adam(network_model.parameters(), lr=0.001)\n",
    "loss_criterion = nn.CrossEntropyLoss()\n",
    "\n",
    "# Function to perform model training over epochs\n",
    "def execute_training(loader, model, optimizer, loss_fn):\n",
    "    model.train()\n",
    "    cumulative_loss = 0\n",
    "    for data, labels in loader:\n",
    "        optimizer.zero_grad()\n",
    "        predictions = model(data)\n",
    "        loss = loss_fn(predictions, labels)\n",
    "        loss.backward()\n",
    "        optimizer.step()\n",
    "        cumulative_loss += loss.item()\n",
    "    avg_epoch_loss = cumulative_loss / len(loader)\n",
    "    return avg_epoch_loss"
   ]
  },
  {
   "cell_type": "code",
   "execution_count": 13,
   "id": "3d94d583-499d-4a27-8a66-bc1d9b247bc9",
   "metadata": {
    "tags": []
   },
   "outputs": [],
   "source": [
    "# Function to evaluate the model after each epoch\n",
    "def compute_evaluation_loss(loader, model, loss_fn):\n",
    "    model.eval()\n",
    "    total_loss = 0\n",
    "    with torch.no_grad():\n",
    "        for data, labels in loader:\n",
    "            predictions = model(data)\n",
    "            loss = loss_fn(predictions, labels)\n",
    "            total_loss += loss.item()\n",
    "        average_loss = total_loss / len(loader)\n",
    "    return average_loss"
   ]
  },
  {
   "cell_type": "code",
   "execution_count": 14,
   "id": "0dd77546-afb0-4460-92e0-51a6483bbb71",
   "metadata": {
    "tags": []
   },
   "outputs": [
    {
     "name": "stdout",
     "output_type": "stream",
     "text": [
      "Epoch 1/100, Train Loss: 2.3033, Test Loss: 2.3030\n",
      "Epoch 2/100, Train Loss: 2.3029, Test Loss: 2.3027\n",
      "Epoch 3/100, Train Loss: 2.3029, Test Loss: 2.3032\n",
      "Epoch 4/100, Train Loss: 2.3027, Test Loss: 2.3026\n",
      "Epoch 5/100, Train Loss: 2.3027, Test Loss: 2.3033\n",
      "Epoch 6/100, Train Loss: 2.3020, Test Loss: 2.3058\n",
      "Epoch 7/100, Train Loss: 2.3013, Test Loss: 2.3053\n",
      "Epoch 8/100, Train Loss: 2.2997, Test Loss: 2.3059\n",
      "Epoch 9/100, Train Loss: 2.2969, Test Loss: 2.3111\n",
      "Epoch 10/100, Train Loss: 2.2936, Test Loss: 2.3121\n",
      "Epoch 11/100, Train Loss: 2.2884, Test Loss: 2.3150\n",
      "Epoch 12/100, Train Loss: 2.2817, Test Loss: 2.3274\n",
      "Epoch 13/100, Train Loss: 2.2726, Test Loss: 2.3337\n",
      "Epoch 14/100, Train Loss: 2.2603, Test Loss: 2.3447\n",
      "Epoch 15/100, Train Loss: 2.2470, Test Loss: 2.3572\n",
      "Epoch 16/100, Train Loss: 2.2291, Test Loss: 2.3743\n",
      "Epoch 17/100, Train Loss: 2.2107, Test Loss: 2.3840\n",
      "Epoch 18/100, Train Loss: 2.1892, Test Loss: 2.4131\n",
      "Epoch 19/100, Train Loss: 2.1636, Test Loss: 2.4436\n",
      "Epoch 20/100, Train Loss: 2.1381, Test Loss: 2.4742\n",
      "Epoch 21/100, Train Loss: 2.1104, Test Loss: 2.4982\n",
      "Epoch 22/100, Train Loss: 2.0827, Test Loss: 2.5455\n",
      "Epoch 23/100, Train Loss: 2.0537, Test Loss: 2.5728\n",
      "Epoch 24/100, Train Loss: 2.0246, Test Loss: 2.6159\n",
      "Epoch 25/100, Train Loss: 1.9929, Test Loss: 2.6498\n",
      "Epoch 26/100, Train Loss: 1.9627, Test Loss: 2.7006\n",
      "Epoch 27/100, Train Loss: 1.9319, Test Loss: 2.7584\n",
      "Epoch 28/100, Train Loss: 1.9008, Test Loss: 2.8126\n",
      "Epoch 29/100, Train Loss: 1.8700, Test Loss: 2.8245\n",
      "Epoch 30/100, Train Loss: 1.8420, Test Loss: 2.8800\n",
      "Epoch 31/100, Train Loss: 1.8108, Test Loss: 2.9772\n",
      "Epoch 32/100, Train Loss: 1.7807, Test Loss: 3.0311\n",
      "Epoch 33/100, Train Loss: 1.7486, Test Loss: 3.1291\n",
      "Epoch 34/100, Train Loss: 1.7218, Test Loss: 3.1839\n",
      "Epoch 35/100, Train Loss: 1.6954, Test Loss: 3.2484\n",
      "Epoch 36/100, Train Loss: 1.6655, Test Loss: 3.2962\n",
      "Epoch 37/100, Train Loss: 1.6409, Test Loss: 3.3689\n",
      "Epoch 38/100, Train Loss: 1.6160, Test Loss: 3.4313\n",
      "Epoch 39/100, Train Loss: 1.5884, Test Loss: 3.5465\n",
      "Epoch 40/100, Train Loss: 1.5611, Test Loss: 3.6279\n",
      "Epoch 41/100, Train Loss: 1.5423, Test Loss: 3.6943\n",
      "Epoch 42/100, Train Loss: 1.5168, Test Loss: 3.8040\n",
      "Epoch 43/100, Train Loss: 1.4971, Test Loss: 3.8672\n",
      "Epoch 44/100, Train Loss: 1.4739, Test Loss: 3.8959\n",
      "Epoch 45/100, Train Loss: 1.4513, Test Loss: 4.0766\n",
      "Epoch 46/100, Train Loss: 1.4337, Test Loss: 4.1095\n",
      "Epoch 47/100, Train Loss: 1.4128, Test Loss: 4.1496\n",
      "Epoch 48/100, Train Loss: 1.3909, Test Loss: 4.2365\n",
      "Epoch 49/100, Train Loss: 1.3763, Test Loss: 4.3202\n",
      "Epoch 50/100, Train Loss: 1.3580, Test Loss: 4.4017\n",
      "Epoch 51/100, Train Loss: 1.3447, Test Loss: 4.5877\n",
      "Epoch 52/100, Train Loss: 1.3245, Test Loss: 4.6260\n",
      "Epoch 53/100, Train Loss: 1.3092, Test Loss: 4.6966\n",
      "Epoch 54/100, Train Loss: 1.2960, Test Loss: 4.7949\n",
      "Epoch 55/100, Train Loss: 1.2883, Test Loss: 4.7698\n",
      "Epoch 56/100, Train Loss: 1.2628, Test Loss: 4.9121\n",
      "Epoch 57/100, Train Loss: 1.2517, Test Loss: 5.0189\n",
      "Epoch 58/100, Train Loss: 1.2377, Test Loss: 5.0709\n",
      "Epoch 59/100, Train Loss: 1.2254, Test Loss: 5.0416\n",
      "Epoch 60/100, Train Loss: 1.2138, Test Loss: 5.2759\n",
      "Epoch 61/100, Train Loss: 1.2014, Test Loss: 5.3104\n",
      "Epoch 62/100, Train Loss: 1.1858, Test Loss: 5.4015\n",
      "Epoch 63/100, Train Loss: 1.1778, Test Loss: 5.5396\n",
      "Epoch 64/100, Train Loss: 1.1672, Test Loss: 5.5692\n",
      "Epoch 65/100, Train Loss: 1.1538, Test Loss: 5.6112\n",
      "Epoch 66/100, Train Loss: 1.1416, Test Loss: 5.7865\n",
      "Epoch 67/100, Train Loss: 1.1367, Test Loss: 5.8241\n",
      "Epoch 68/100, Train Loss: 1.1182, Test Loss: 5.9833\n",
      "Epoch 69/100, Train Loss: 1.1109, Test Loss: 5.9560\n",
      "Epoch 70/100, Train Loss: 1.0981, Test Loss: 6.1570\n",
      "Epoch 71/100, Train Loss: 1.0998, Test Loss: 6.1644\n",
      "Epoch 72/100, Train Loss: 1.0818, Test Loss: 6.2376\n",
      "Epoch 73/100, Train Loss: 1.0675, Test Loss: 6.4397\n",
      "Epoch 74/100, Train Loss: 1.0644, Test Loss: 6.4315\n",
      "Epoch 75/100, Train Loss: 1.0497, Test Loss: 6.5024\n",
      "Epoch 76/100, Train Loss: 1.0521, Test Loss: 6.6791\n",
      "Epoch 77/100, Train Loss: 1.0498, Test Loss: 6.5910\n",
      "Epoch 78/100, Train Loss: 1.0284, Test Loss: 6.6796\n",
      "Epoch 79/100, Train Loss: 1.0163, Test Loss: 6.8245\n",
      "Epoch 80/100, Train Loss: 1.0092, Test Loss: 7.0097\n",
      "Epoch 81/100, Train Loss: 1.0131, Test Loss: 6.9096\n",
      "Epoch 82/100, Train Loss: 1.0030, Test Loss: 6.9413\n",
      "Epoch 83/100, Train Loss: 0.9878, Test Loss: 7.2320\n",
      "Epoch 84/100, Train Loss: 0.9851, Test Loss: 7.3008\n",
      "Epoch 85/100, Train Loss: 0.9828, Test Loss: 7.3148\n",
      "Epoch 86/100, Train Loss: 0.9694, Test Loss: 7.2685\n",
      "Epoch 87/100, Train Loss: 0.9730, Test Loss: 7.5314\n",
      "Epoch 88/100, Train Loss: 0.9558, Test Loss: 7.4754\n",
      "Epoch 89/100, Train Loss: 0.9501, Test Loss: 7.4263\n",
      "Epoch 90/100, Train Loss: 0.9552, Test Loss: 7.5870\n",
      "Epoch 91/100, Train Loss: 0.9345, Test Loss: 7.7168\n",
      "Epoch 92/100, Train Loss: 0.9380, Test Loss: 7.8903\n",
      "Epoch 93/100, Train Loss: 0.9356, Test Loss: 7.9096\n",
      "Epoch 94/100, Train Loss: 0.9122, Test Loss: 7.9428\n",
      "Epoch 95/100, Train Loss: 0.9141, Test Loss: 8.1747\n",
      "Epoch 96/100, Train Loss: 0.9112, Test Loss: 8.0128\n",
      "Epoch 97/100, Train Loss: 0.8977, Test Loss: 8.1603\n",
      "Epoch 98/100, Train Loss: 0.9070, Test Loss: 8.3212\n",
      "Epoch 99/100, Train Loss: 0.8962, Test Loss: 8.4266\n",
      "Epoch 100/100, Train Loss: 0.8945, Test Loss: 8.4374\n"
     ]
    }
   ],
   "source": [
    "# Main loop for training and testing\n",
    "EPOCH_COUNT = 100\n",
    "train_loss_history = []\n",
    "test_loss_history = []\n",
    "\n",
    "for epoch in range(1, EPOCH_COUNT+1):\n",
    "    current_train_loss = execute_training(train_loader, network_model, network_optimizer, loss_criterion)\n",
    "    current_test_loss = compute_evaluation_loss(test_loader, network_model, loss_criterion)\n",
    "    \n",
    "    train_loss_history.append(current_train_loss)\n",
    "    test_loss_history.append(current_test_loss)\n",
    "    \n",
    "    \n",
    "    print(f'Epoch {epoch}/{EPOCH_COUNT}, Train Loss: {current_train_loss:.4f}, Test Loss: {current_test_loss:.4f}')"
   ]
  },
  {
   "cell_type": "code",
   "execution_count": 16,
   "id": "c0133b8c-bf7e-4317-ad9c-3c4039a5518c",
   "metadata": {
    "tags": []
   },
   "outputs": [
    {
     "data": {
      "image/png": "[encoded data removed]",
      "text/plain": [
       "<Figure size 1000x500 with 1 Axes>"
      ]
     },
     "metadata": {},
     "output_type": "display_data"
    }
   ],
   "source": [
    "# Visualize Loss similar to the provided image\n",
    "plt.figure(figsize=(10, 5))  \n",
    "plt.plot(train_loss_history, label='Train_Loss', color='black')  \n",
    "plt.plot(test_loss_history, label='Test_Loss', color='green')  \n",
    "\n",
    "# Setting labels and title\n",
    "plt.xlabel('Epochs')  \n",
    "plt.ylabel('Loss')    \n",
    "plt.title('Training and Testing Loss with Random Labels (MNIST)')\n",
    "plt.legend(loc='center right')  \n",
    "plt.show()"
   ]
  }
 ],
 "metadata": {
  "kernelspec": {
   "display_name": "Python 3 (ipykernel)",
   "language": "python",
   "name": "python3"
  },
  "language_info": {
   "codemirror_mode": {
    "name": "ipython",
    "version": 3
   },
   "file_extension": ".py",
   "mimetype": "text/x-python",
   "name": "python",
   "nbconvert_exporter": "python",
   "pygments_lexer": "ipython3",
   "version": "3.11.5"
  }
 },
 "nbformat": 4,
 "nbformat_minor": 5
}
